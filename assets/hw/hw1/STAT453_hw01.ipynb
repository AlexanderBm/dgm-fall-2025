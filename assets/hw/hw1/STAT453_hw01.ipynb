{
 "cells": [
  {
   "cell_type": "markdown",
   "metadata": {
    "id": "3-paaqDvMVfk"
   },
   "source": [
    "**STAT 453: Introduction to Deep Learning and Generative Models (Fall 2025)**\n",
    "\n",
    "Instructor: Ben Lengerich\n",
    "\n",
    "\n",
    "Useful resources from previous years:\n",
    "\n",
    "Course website http://pages.stat.wisc.edu/~sraschka/teaching/stat453-ss2020/  \n",
    "\n",
    "GitHub repository https://github.com/rasbt/stat453-deep-learning-ss20"
   ]
  },
  {
   "cell_type": "markdown",
   "metadata": {
    "id": "BwIohMDgMVfq"
   },
   "source": [
    "# HW 1: Implementing the Perceptron Algorithm in \"Just\" Python (50 pts)"
   ]
  },
  {
   "cell_type": "markdown",
   "metadata": {
    "id": "QAo27w1NMVfs"
   },
   "source": [
    "In this homework assignment, you are asked to implement the classic Perceptron by Frank Rosenblatt for binary classification (here: 0/1 class labels), which we have discussed in the lecture.\n",
    "\n",
    "In particular, you should only use \"basic\" or \"vanilla\" Python functions for this implementation. Hence, no `import`s from PyTorch or NumPy will be permitted for this homework.\n",
    "\n",
    "The goal of this exercise is to familiarize yourself with Python implementation that we discussed in class. Hence, you may wish to explore the code from the lecture further when you implement the Perceptron in \"pure\" Python. Note that you are also asked to use the overall structure of the `Perceptron` Python `class`. While it may seem strange to you at first, it will be useful later when will discuss PyTorch for deep learning. The way PyTorch works is similar to this class (i.e., using a model `class` with `forward` and `backward` methods).\n",
    "\n",
    "A good portion of the code is already written which you don't need to change. However, you are encouraged to read and understand the functionalities so that you will be able to write complete code later."
   ]
  },
  {
   "cell_type": "markdown",
   "metadata": {
    "id": "9tgpp2leMVft"
   },
   "source": [
    "### Important!"
   ]
  },
  {
   "cell_type": "markdown",
   "metadata": {
    "id": "4qBqaUVkMVft"
   },
   "source": [
    "**The homework assignment should be submitted via Canvas.**\n",
    "\n",
    "- Please submit the `.ipynb` file with your solution as well as an HTML version (use `File -> export as -> HTML`) as a backup in case we cannot open your .ipynb on our computer.\n",
    "\n",
    "- I recommend using the conda package manager for installing Python 3.7 or higher versions and Jupyter Notebook (or Jupyter Lab). You may find the lecture notes from a machine learning class (https://github.com/rasbt/stat479-machine-learning-fs19/blob/master/03_python/03-python__notes.pdf, Section 3) helpful.\n",
    "\n",
    "- Also consider this YouTube tutorial for a more visual setup guide for conda: https://www.youtube.com/watch?v=YJC6ldI3hWk (Python Tutorial: Anaconda - Installation and Using Conda). Please reach out to the TA or me if you need any help of have questions.\n"
   ]
  },
  {
   "cell_type": "markdown",
   "metadata": {
    "id": "qXuG2uwPMVfu"
   },
   "source": [
    "## 0) Imports"
   ]
  },
  {
   "cell_type": "markdown",
   "metadata": {
    "id": "C8NTX8ZnMVfv"
   },
   "source": [
    "**No modification required.** You should execute this code and are encouraged to explore it further, but it is recommended to  not make any alterations here."
   ]
  },
  {
   "cell_type": "code",
   "execution_count": null,
   "metadata": {
    "id": "pyTfK9uUMVfv"
   },
   "outputs": [],
   "source": [
    "import matplotlib.pyplot as plt\n",
    "%matplotlib inline"
   ]
  },
  {
   "cell_type": "markdown",
   "metadata": {
    "id": "oYUA-r6OMVfw"
   },
   "source": [
    "## 1) Loading the dataset"
   ]
  },
  {
   "cell_type": "markdown",
   "metadata": {
    "id": "wWOjF3FVMVfw"
   },
   "source": [
    "**No modification required.** You should execute this code and are encouraged to explore it further, but it is recommended to  not make any alterations here."
   ]
  },
  {
   "cell_type": "code",
   "execution_count": null,
   "metadata": {
    "id": "JNO4GJ4gMVfx",
    "outputId": "3d1f3897-45dc-4e07-f30a-4d0ad3190af8"
   },
   "outputs": [
    {
     "name": "stdout",
     "output_type": "stream",
     "text": [
      "100 100\n"
     ]
    }
   ],
   "source": [
    "X, y = [], []\n",
    "\n",
    "with open('./dataset.csv', 'r') as f:\n",
    "    next(f)\n",
    "    for line in f:\n",
    "        line = line.strip()\n",
    "        if line:\n",
    "            values = line.split(',')\n",
    "        else:\n",
    "            continue\n",
    "        X.append([float(i) for i in values[:2]])\n",
    "        y.append(int(values[-1]))\n",
    "\n",
    "print(len(X), len(y))"
   ]
  },
  {
   "cell_type": "code",
   "execution_count": null,
   "metadata": {
    "id": "RBkBEGL8MVfy"
   },
   "outputs": [],
   "source": [
    "import random\n",
    "\n",
    "\n",
    "random.seed(123)\n",
    "\n",
    "idx = list(range(len(X)))\n",
    "random.shuffle(idx)\n",
    "\n",
    "X_train = [X[i] for i in idx[:80]]\n",
    "y_train = [y[i] for i in idx[:80]]\n",
    "X_test = [X[i] for i in idx[80:]]\n",
    "y_test = [y[i] for i in idx[80:]]"
   ]
  },
  {
   "cell_type": "code",
   "execution_count": null,
   "metadata": {
    "id": "N0MLIGRJMVfy",
    "outputId": "90d80415-5189-40b1-e0ff-429fbb2ae722"
   },
   "outputs": [
    {
     "data": {
      "image/png": "[encoded data removed]",
      "text/plain": [
       "<Figure size 432x288 with 1 Axes>"
      ]
     },
     "metadata": {
      "needs_background": "light"
     },
     "output_type": "display_data"
    }
   ],
   "source": [
    "plt.scatter([i[0] for idx, i in enumerate(X_train) if y_train[idx] == 0],\n",
    "            [i[1] for idx, i in enumerate(X_train) if y_train[idx] == 0],\n",
    "            label='class 0', marker='o')\n",
    "\n",
    "plt.scatter([i[0] for idx, i in enumerate(X_train) if y_train[idx] == 1],\n",
    "            [i[1] for idx, i in enumerate(X_train) if y_train[idx] == 1],\n",
    "            label='class 1', marker='s')\n",
    "\n",
    "plt.title('Training set')\n",
    "plt.xlabel('feature 1')\n",
    "plt.ylabel('feature 2')\n",
    "plt.xlim([0.0, 7])\n",
    "plt.ylim([-0.8, 0.8])\n",
    "plt.legend()\n",
    "plt.show()"
   ]
  },
  {
   "cell_type": "markdown",
   "metadata": {
    "id": "6_uR7exXMVfz"
   },
   "source": [
    "## Defining the Perceptron model (50 pts)"
   ]
  },
  {
   "cell_type": "markdown",
   "metadata": {
    "id": "8-NJD0E_MVfz"
   },
   "source": [
    "Below, you need to complete the code of the Perceptron model class based on the framework I provided."
   ]
  },
  {
   "cell_type": "code",
   "execution_count": null,
   "metadata": {
    "id": "78-KeVLWMVf0"
   },
   "outputs": [],
   "source": [
    "class Perceptron():\n",
    "    def __init__(self, num_features):\n",
    "        self.weights = # <your code>\n",
    "        self.bias = # <your code>\n",
    "\n",
    "    def forward(self, x):\n",
    "        linear = # <your code>\n",
    "        prediction = # <your code>\n",
    "        return prediction\n",
    "\n",
    "    def backward(self, x, y):\n",
    "        # <your code> to compute the prediction error\n",
    "\n",
    "    def train(self, x, y, epochs):\n",
    "        for e in range(epochs):\n",
    "\n",
    "            for i in range(len(y)):\n",
    "                # <your code> to update the weights and bias\n",
    "\n",
    "    def evaluate(self, x, y):\n",
    "        # <your code> to compute the prediction accuracy\n",
    "        return accuracy"
   ]
  },
  {
   "cell_type": "markdown",
   "metadata": {
    "id": "pO-ofCI7MVf0"
   },
   "source": [
    "## Training the Perceptron (20 pts)"
   ]
  },
  {
   "cell_type": "markdown",
   "metadata": {
    "id": "zLtK7SW7MVf0"
   },
   "source": [
    "Here, you are asked to train the perceptron for 5 epochs and print out the Perceptron weight parameters and the value of the bias unit after training.\n",
    "\n",
    "- The code should be relatively similar to the code you've seen in the lecture."
   ]
  },
  {
   "cell_type": "code",
   "execution_count": null,
   "metadata": {
    "id": "-8B0sOuSMVf0"
   },
   "outputs": [],
   "source": [
    "ppn = Perceptron(num_features=2)\n",
    "\n",
    "# <your code>"
   ]
  },
  {
   "cell_type": "markdown",
   "metadata": {
    "id": "Bz6LcwnjMVf1"
   },
   "source": [
    "## Evaluating the model"
   ]
  },
  {
   "cell_type": "markdown",
   "metadata": {
    "id": "Jy0UaJDGMVf1"
   },
   "source": [
    "Compute the prediction accuracy (in percent) for both the training set and the test set."
   ]
  },
  {
   "cell_type": "code",
   "execution_count": null,
   "metadata": {
    "id": "LSHJuUVWMVf1"
   },
   "outputs": [],
   "source": [
    "# <your code>\n",
    "print('Train set accuracy: %.2f%%' % (train_acc*100))"
   ]
  },
  {
   "cell_type": "code",
   "execution_count": null,
   "metadata": {
    "id": "rY6dmScwMVf1"
   },
   "outputs": [],
   "source": [
    "# <your code>\n",
    "print('Test set accuracy: %.2f%%' % (test_acc*100))"
   ]
  },
  {
   "cell_type": "markdown",
   "metadata": {
    "id": "OPnA89CgMVf1"
   },
   "source": [
    "## Decision Boundary (30 pts)"
   ]
  },
  {
   "cell_type": "markdown",
   "metadata": {
    "id": "BSvlomeKMVf2"
   },
   "source": [
    "Make 2 scatterplots: 1 for the training dataset and 1 for the test dataset. Draw the respective decision boundaries of the perceptron in each plot (similar to the code example you have seen in the lecture)."
   ]
  },
  {
   "cell_type": "code",
   "execution_count": null,
   "metadata": {
    "id": "fJJPYD5QMVf2"
   },
   "outputs": [],
   "source": [
    "##########################\n",
    "### 2D Decision Boundary\n",
    "##########################\n",
    "\n",
    "# <your code>"
   ]
  },
  {
   "cell_type": "markdown",
   "metadata": {
    "id": "EkL07Ipb2tMY"
   },
   "source": [
    "Attribution: Ben Lengerich, Yiqiao Zhong, Sebastian Raschka, Baiheng Chen"
   ]
  }
 ],
 "metadata": {
  "colab": {
   "provenance": []
  },
  "kernelspec": {
   "display_name": "Python 3 (ipykernel)",
   "language": "python",
   "name": "python3"
  },
  "language_info": {
   "codemirror_mode": {
    "name": "ipython",
    "version": 3
   },
   "file_extension": ".py",
   "mimetype": "text/x-python",
   "name": "python",
   "nbconvert_exporter": "python",
   "pygments_lexer": "ipython3",
   "version": "3.10.9"
  },
  "toc": {
   "nav_menu": {},
   "number_sections": true,
   "sideBar": true,
   "skip_h1_title": false,
   "title_cell": "Table of Contents",
   "title_sidebar": "Contents",
   "toc_cell": false,
   "toc_position": {},
   "toc_section_display": true,
   "toc_window_display": false
  }
 },
 "nbformat": 4,
 "nbformat_minor": 1
}
